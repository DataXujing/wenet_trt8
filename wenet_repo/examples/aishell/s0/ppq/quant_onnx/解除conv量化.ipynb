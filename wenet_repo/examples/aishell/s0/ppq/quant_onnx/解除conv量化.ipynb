{
 "cells": [
  {
   "cell_type": "code",
   "execution_count": 1,
   "id": "5efbdbdb-d956-4103-9253-17a7a9b2d8b1",
   "metadata": {},
   "outputs": [],
   "source": [
    "import onnx\n",
    "import onnx_graphsurgeon as gs\n",
    "import numpy as np\n",
    "from collections import OrderedDict"
   ]
  },
  {
   "cell_type": "code",
   "execution_count": 2,
   "id": "30df26b1-773b-46d9-b636-40b663932809",
   "metadata": {},
   "outputs": [],
   "source": [
    "graph1 = gs.import_onnx(onnx.load('../orin_onnx/encoder.onnx'))\n",
    "graph2 = gs.import_onnx(onnx.load('encoder_quant.onnx'))"
   ]
  },
  {
   "cell_type": "code",
   "execution_count": 3,
   "id": "b0995d5e-c9c8-4f48-bb85-97b93429f93f",
   "metadata": {},
   "outputs": [
    {
     "data": {
      "text/plain": [
       "Conv_188 (Conv)\n",
       "\tInputs: [\n",
       "\t\tVariable (input.51): (shape=None, dtype=None)\n",
       "\t\tConstant (onnx::Conv_3273): (shape=[256, 1, 15], dtype=<class 'numpy.float32'>)\n",
       "\t\tConstant (onnx::Conv_3274): (shape=[256], dtype=<class 'numpy.float32'>)\n",
       "\t]\n",
       "\tOutputs: [\n",
       "\t\tVariable (input.59): (shape=None, dtype=None)\n",
       "\t]\n",
       "Attributes: OrderedDict([('dilations', [1]), ('group', 256), ('kernel_shape', [15]), ('pads', [7, 7]), ('strides', [1])])"
      ]
     },
     "execution_count": 3,
     "metadata": {},
     "output_type": "execute_result"
    }
   ],
   "source": [
    "Conv_1 = [node for node in graph1.nodes if node.name=='Conv_188'][0]\n",
    "Conv_1"
   ]
  },
  {
   "cell_type": "code",
   "execution_count": 4,
   "id": "87a6e2e9-b940-4e10-a609-18faab8a93ee",
   "metadata": {},
   "outputs": [
    {
     "data": {
      "text/plain": [
       "Conv_188 (Conv)\n",
       "\tInputs: [\n",
       "\t\tVariable (PPQ_Variable_274): (shape=None, dtype=None)\n",
       "\t\tVariable (PPQ_Variable_280): (shape=None, dtype=None)\n",
       "\t\tConstant (onnx::Conv_3274): (shape=[256], dtype=<class 'numpy.float32'>)\n",
       "\t]\n",
       "\tOutputs: [\n",
       "\t\tVariable (input.59): (shape=None, dtype=None)\n",
       "\t]\n",
       "Attributes: OrderedDict([('dilations', [1]), ('group', 256), ('kernel_shape', [15]), ('pads', [7, 7]), ('strides', [1])])"
      ]
     },
     "execution_count": 4,
     "metadata": {},
     "output_type": "execute_result"
    }
   ],
   "source": [
    "Conv_2 = [node for node in graph2.nodes if node.name=='Conv_188'][0]\n",
    "Conv_2"
   ]
  },
  {
   "cell_type": "code",
   "execution_count": 5,
   "id": "bc4f412c-5df9-4663-9487-41c08ae542bc",
   "metadata": {},
   "outputs": [
    {
     "data": {
      "text/plain": [
       "Constant (onnx::Conv_3273): (shape=[256, 1, 15], dtype=<class 'numpy.float32'>)\n",
       "LazyValues (shape=[256, 1, 15], dtype=float32)"
      ]
     },
     "execution_count": 5,
     "metadata": {},
     "output_type": "execute_result"
    }
   ],
   "source": [
    "Conv_1.inputs[1]"
   ]
  },
  {
   "cell_type": "code",
   "execution_count": 6,
   "id": "52357b97-5aa7-4cd4-8e34-594290ecf528",
   "metadata": {},
   "outputs": [
    {
     "data": {
      "text/plain": [
       "Variable (PPQ_Variable_280): (shape=None, dtype=None)"
      ]
     },
     "execution_count": 6,
     "metadata": {},
     "output_type": "execute_result"
    }
   ],
   "source": [
    "Conv_2.inputs[1]"
   ]
  },
  {
   "cell_type": "code",
   "execution_count": 7,
   "id": "31f1c898-a971-4e80-bd57-54b7b9025e85",
   "metadata": {},
   "outputs": [],
   "source": [
    "weights = Conv_1.inputs[1]"
   ]
  },
  {
   "cell_type": "code",
   "execution_count": 8,
   "id": "9f8e8b9a-8277-4d1c-a6de-3fb0ac7dec7c",
   "metadata": {
    "tags": []
   },
   "outputs": [
    {
     "data": {
      "text/plain": [
       "array([[[-0.06179988, -0.11587369, -0.0782654 , ...,  0.09398152,\n",
       "         -0.04613826,  0.07503603]],\n",
       "\n",
       "       [[-0.03725612, -0.00824413,  0.00494244, ..., -0.00534191,\n",
       "          0.00701523,  0.01457752]],\n",
       "\n",
       "       [[-0.05152623, -0.05021266, -0.04398715, ...,  0.0163779 ,\n",
       "         -0.00225453, -0.04670919]],\n",
       "\n",
       "       ...,\n",
       "\n",
       "       [[-0.01983024, -0.02094599, -0.0487788 , ...,  0.0498136 ,\n",
       "         -0.00630857,  0.05127599]],\n",
       "\n",
       "       [[ 0.00389191, -0.04586082, -0.01248292, ...,  0.03666314,\n",
       "         -0.01951113,  0.02056173]],\n",
       "\n",
       "       [[ 0.03362665,  0.04754938,  0.0577562 , ..., -0.01154593,\n",
       "          0.02412693, -0.04146174]]], dtype=float32)"
      ]
     },
     "execution_count": 8,
     "metadata": {},
     "output_type": "execute_result"
    }
   ],
   "source": [
    "weights.values"
   ]
  },
  {
   "cell_type": "code",
   "execution_count": 9,
   "id": "e836c6db-61ce-492f-b4e9-2aa98c92ff94",
   "metadata": {},
   "outputs": [],
   "source": [
    "ppq = Conv_2.inputs[1]"
   ]
  },
  {
   "cell_type": "code",
   "execution_count": 10,
   "id": "382836cb-7422-4e4a-ba71-2ea3fd925bb3",
   "metadata": {},
   "outputs": [
    {
     "data": {
      "text/plain": [
       "Variable (PPQ_Variable_280): (shape=None, dtype=None)"
      ]
     },
     "execution_count": 10,
     "metadata": {},
     "output_type": "execute_result"
    }
   ],
   "source": [
    "ppq"
   ]
  },
  {
   "cell_type": "code",
   "execution_count": 11,
   "id": "c54e63dd-7b5a-461f-98db-858dad81704f",
   "metadata": {},
   "outputs": [],
   "source": [
    "tmp = Conv_1.inputs[1].copy()"
   ]
  },
  {
   "cell_type": "code",
   "execution_count": 12,
   "id": "3bc145ba-e762-41cd-a0d6-e187056c64e1",
   "metadata": {
    "collapsed": true,
    "jupyter": {
     "outputs_hidden": true
    },
    "tags": []
   },
   "outputs": [
    {
     "data": {
      "text/plain": [
       "Constant (onnx::Conv_3273): (shape=(256, 1, 15), dtype=<class 'numpy.float32'>)\n",
       "[[[-0.06179988 -0.11587369 -0.0782654  ...  0.09398152 -0.04613826\n",
       "    0.07503603]]\n",
       "\n",
       " [[-0.03725612 -0.00824413  0.00494244 ... -0.00534191  0.00701523\n",
       "    0.01457752]]\n",
       "\n",
       " [[-0.05152623 -0.05021266 -0.04398715 ...  0.0163779  -0.00225453\n",
       "   -0.04670919]]\n",
       "\n",
       " ...\n",
       "\n",
       " [[-0.01983024 -0.02094599 -0.0487788  ...  0.0498136  -0.00630857\n",
       "    0.05127599]]\n",
       "\n",
       " [[ 0.00389191 -0.04586082 -0.01248292 ...  0.03666314 -0.01951113\n",
       "    0.02056173]]\n",
       "\n",
       " [[ 0.03362665  0.04754938  0.0577562  ... -0.01154593  0.02412693\n",
       "   -0.04146174]]]"
      ]
     },
     "execution_count": 12,
     "metadata": {},
     "output_type": "execute_result"
    }
   ],
   "source": [
    "tmp"
   ]
  },
  {
   "cell_type": "code",
   "execution_count": 13,
   "id": "b68ec1f6-c531-47c7-b4c8-3a7048d01254",
   "metadata": {},
   "outputs": [],
   "source": [
    "tmp.name = 'noquant_weights'"
   ]
  },
  {
   "cell_type": "code",
   "execution_count": 14,
   "id": "80b1a007-ae60-4b19-bcbf-53fbc35c3b6e",
   "metadata": {},
   "outputs": [],
   "source": [
    "Conv_2.inputs[1] = tmp"
   ]
  },
  {
   "cell_type": "code",
   "execution_count": 15,
   "id": "10e6c308-c96e-4bcb-8c91-760488189642",
   "metadata": {},
   "outputs": [],
   "source": [
    "graph2.cleanup().toposort()\n",
    "onnx.save(gs.export_onnx(graph2),'encoder_fix_quant.onnx')"
   ]
  },
  {
   "cell_type": "code",
   "execution_count": null,
   "id": "5c6f6482-4aa7-4756-a542-43fffaa09ff2",
   "metadata": {},
   "outputs": [],
   "source": []
  }
 ],
 "metadata": {
  "kernelspec": {
   "display_name": "Python [conda env:torch] *",
   "language": "python",
   "name": "conda-env-torch-py"
  },
  "language_info": {
   "codemirror_mode": {
    "name": "ipython",
    "version": 3
   },
   "file_extension": ".py",
   "mimetype": "text/x-python",
   "name": "python",
   "nbconvert_exporter": "python",
   "pygments_lexer": "ipython3",
   "version": "3.8.13"
  }
 },
 "nbformat": 4,
 "nbformat_minor": 5
}
